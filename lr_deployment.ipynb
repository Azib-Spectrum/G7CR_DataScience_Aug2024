{
 "cells": [
  {
   "cell_type": "code",
   "execution_count": 2,
   "metadata": {},
   "outputs": [],
   "source": [
    "import joblib\n",
    "final_model=joblib.load(r\"C:\\Users\\Ameer\\Downloads\\G7 CR DataScience\\lr_model\")"
   ]
  },
  {
   "cell_type": "code",
   "execution_count": 3,
   "metadata": {},
   "outputs": [
    {
     "data": {
      "text/plain": [
       "array([91941.93644885])"
      ]
     },
     "execution_count": 3,
     "metadata": {},
     "output_type": "execute_result"
    }
   ],
   "source": [
    "final_model.predict([[7]])"
   ]
  },
  {
   "cell_type": "code",
   "execution_count": null,
   "metadata": {},
   "outputs": [],
   "source": [
    "!pip install streamlit"
   ]
  },
  {
   "cell_type": "code",
   "execution_count": 17,
   "metadata": {},
   "outputs": [
    {
     "name": "stdout",
     "output_type": "stream",
     "text": [
      "Overwriting app.py\n"
     ]
    }
   ],
   "source": [
    "%%writefile app.py\n",
    "import streamlit as st\n",
    "import joblib\n",
    "final_model=joblib.load(r\"C:\\Users\\Ameer\\Downloads\\G7 CR DataScience\\lr_model\")\n",
    "st.title(\"Salary predictor based on Years of Experience\")\n",
    "st.text(\"This app is created by using Streamlit\")\n",
    "st.text(\"This is powered by using Linear Regression module of sklearn library\")\n",
    "st.subheader(\"Please enter the number of years of experience and click on PREDICT\")\n",
    "yrs=st.number_input(\"Years of Experience\",min_value=0.0,max_value=15.0,value=3.0,step=0.5)\n",
    "if(st.button(\"PREDICT SALARY\")):\n",
    "    op=final_model.predict([[yrs]])\n",
    "    st.header(f\"The estimated salary for a person having {yrs} years of experience is ₹{round(op[0])}.\")"
   ]
  },
  {
   "cell_type": "code",
   "execution_count": 7,
   "metadata": {},
   "outputs": [
    {
     "name": "stdout",
     "output_type": "stream",
     "text": [
      "^C\n"
     ]
    }
   ],
   "source": [
    "!streamlit run abc.py"
   ]
  },
  {
   "cell_type": "code",
   "execution_count": null,
   "metadata": {},
   "outputs": [],
   "source": []
  }
 ],
 "metadata": {
  "kernelspec": {
   "display_name": "Python 3",
   "language": "python",
   "name": "python3"
  },
  "language_info": {
   "codemirror_mode": {
    "name": "ipython",
    "version": 3
   },
   "file_extension": ".py",
   "mimetype": "text/x-python",
   "name": "python",
   "nbconvert_exporter": "python",
   "pygments_lexer": "ipython3",
   "version": "3.10.11"
  }
 },
 "nbformat": 4,
 "nbformat_minor": 2
}
